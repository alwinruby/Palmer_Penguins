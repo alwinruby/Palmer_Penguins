{
 "cells": [
  {
   "cell_type": "code",
   "execution_count": 1,
   "id": "3a1901f1",
   "metadata": {},
   "outputs": [
    {
     "name": "stdout",
     "output_type": "stream",
     "text": [
      "Modules imported\n"
     ]
    }
   ],
   "source": [
    "import numpy as np\n",
    "import pandas as pd\n",
    "\n",
    "import matplotlib.pyplot as plt\n",
    "import seaborn as sns\n",
    "sns.set(style=\"darkgrid\")\n",
    "\n",
    "from sklearn.ensemble import RandomForestClassifier\n",
    "from sklearn.preprocessing import LabelEncoder, StandardScaler\n",
    "from sklearn.model_selection import train_test_split, cross_val_score\n",
    "from sklearn.metrics import plot_confusion_matrix\n",
    "from sklearn.feature_selection import mutual_info_regression\n",
    "from sklearn.linear_model import LinearRegression\n",
    "from sklearn.experimental import enable_iterative_imputer  \n",
    "from sklearn.impute import IterativeImputer\n",
    "from sklearn.decomposition import PCA\n",
    "\n",
    "import warnings\n",
    "warnings.filterwarnings('ignore')\n",
    "print(\"Modules imported\")"
   ]
  },
  {
   "cell_type": "code",
   "execution_count": 2,
   "id": "70be4c81",
   "metadata": {},
   "outputs": [],
   "source": [
    "# Common functions\n",
    "def apply_pca(X, standardize=True):\n",
    "    # Standardize\n",
    "    if standardize:\n",
    "        X = (X - X.mean(axis=0)) / X.std(axis=0)\n",
    "    # Create principal components\n",
    "    pca = PCA()\n",
    "    X_pca = pca.fit_transform(X)\n",
    "    # Convert to dataframe\n",
    "    component_names = [f\"PC{i+1}\" for i in range(X_pca.shape[1])]\n",
    "    X_pca = pd.DataFrame(X_pca, columns=component_names)\n",
    "    # Create loadings\n",
    "    loadings = pd.DataFrame(\n",
    "        pca.components_.T,  # transpose the matrix of loadings\n",
    "        columns=component_names,  # so the columns are the principal components\n",
    "        index=X.columns,  # and the rows are the original features\n",
    "    )\n",
    "    return pca, X_pca, loadings"
   ]
  },
  {
   "cell_type": "code",
   "execution_count": 3,
   "id": "8f6a9d50",
   "metadata": {},
   "outputs": [],
   "source": [
    "def plot_variance(pca, width=8, dpi=100):\n",
    "    # Create figure\n",
    "    fig, axs = plt.subplots(1, 2)\n",
    "    n = pca.n_components_\n",
    "    grid = np.arange(1, n + 1)\n",
    "    # Explained variance\n",
    "    evr = pca.explained_variance_ratio_\n",
    "    axs[0].bar(grid, evr)\n",
    "    axs[0].set(\n",
    "        xlabel=\"Component\", title=\"% Explained Variance\", ylim=(0.0, 1.0)\n",
    "    )\n",
    "    # Cumulative Variance\n",
    "    cv = np.cumsum(evr)\n",
    "    axs[1].plot(np.r_[0, grid], np.r_[0, cv], \"o-\")\n",
    "    axs[1].set(\n",
    "        xlabel=\"Component\", title=\"% Cumulative Variance\", ylim=(0.0, 1.0)\n",
    "    )\n",
    "    # Set up figure\n",
    "    fig.set(figwidth=8, dpi=100)\n",
    "    return axs\n"
   ]
  },
  {
   "cell_type": "code",
   "execution_count": 4,
   "id": "94d1f49a",
   "metadata": {},
   "outputs": [],
   "source": [
    "def make_mi_scores(X, y):\n",
    "    X = X.copy()\n",
    "    for colname in X.select_dtypes([\"object\", \"category\"]):\n",
    "        X[colname], _ = X[colname].factorize()\n",
    "    # All discrete features should now have integer dtypes\n",
    "    mi_scores = mutual_info_regression(X, y, discrete_features=False, random_state=0)\n",
    "    mi_scores = pd.Series(mi_scores, name=\"MI Scores\", index=X.columns)\n",
    "    mi_scores = mi_scores.sort_values(ascending=False)\n",
    "    return mi_scores"
   ]
  },
  {
   "cell_type": "code",
   "execution_count": 5,
   "id": "346d0727",
   "metadata": {},
   "outputs": [],
   "source": [
    "# Read the dataset\n",
    "penguins_data = pd.read_csv(\"datasets/penguins_lter.csv\")"
   ]
  },
  {
   "cell_type": "code",
   "execution_count": 6,
   "id": "42e0ad3e",
   "metadata": {},
   "outputs": [
    {
     "name": "stdout",
     "output_type": "stream",
     "text": [
      "<class 'pandas.core.frame.DataFrame'>\n",
      "RangeIndex: 344 entries, 0 to 343\n",
      "Data columns (total 17 columns):\n",
      " #   Column               Non-Null Count  Dtype  \n",
      "---  ------               --------------  -----  \n",
      " 0   studyName            344 non-null    object \n",
      " 1   Sample Number        344 non-null    int64  \n",
      " 2   Species              344 non-null    object \n",
      " 3   Region               344 non-null    object \n",
      " 4   Island               344 non-null    object \n",
      " 5   Stage                344 non-null    object \n",
      " 6   Individual ID        344 non-null    object \n",
      " 7   Clutch Completion    344 non-null    object \n",
      " 8   Date Egg             344 non-null    object \n",
      " 9   Culmen Length (mm)   342 non-null    float64\n",
      " 10  Culmen Depth (mm)    342 non-null    float64\n",
      " 11  Flipper Length (mm)  342 non-null    float64\n",
      " 12  Body Mass (g)        342 non-null    float64\n",
      " 13  Sex                  334 non-null    object \n",
      " 14  Delta 15 N (o/oo)    330 non-null    float64\n",
      " 15  Delta 13 C (o/oo)    331 non-null    float64\n",
      " 16  Comments             26 non-null     object \n",
      "dtypes: float64(6), int64(1), object(10)\n",
      "memory usage: 45.8+ KB\n",
      "None\n"
     ]
    }
   ],
   "source": [
    "print(penguins_data.info())"
   ]
  },
  {
   "cell_type": "code",
   "execution_count": 7,
   "id": "6281960d",
   "metadata": {},
   "outputs": [],
   "source": [
    "# Let's pick some features as our training variables\n",
    "feature_columns = ['Species', 'Island', 'Stage',\n",
    "        'Culmen Length (mm)','Culmen Depth (mm)',\n",
    "        'Flipper Length (mm)', 'Body Mass (g)', 'Sex']\n",
    "X = penguins_data[feature_columns]"
   ]
  },
  {
   "cell_type": "code",
   "execution_count": 8,
   "id": "13b5f37d",
   "metadata": {},
   "outputs": [],
   "source": [
    "# This is likely a data entry mistake, hence we'll set it as a NaN for now\n",
    "X.loc[X.Sex == '.', 'Sex'] = np.nan"
   ]
  },
  {
   "cell_type": "code",
   "execution_count": 9,
   "id": "83da33b1",
   "metadata": {},
   "outputs": [
    {
     "data": {
      "image/png": "[encoded data removed]",
      "text/plain": [
       "<Figure size 720x720 with 2 Axes>"
      ]
     },
     "metadata": {},
     "output_type": "display_data"
    }
   ],
   "source": [
    "# Let's see the correlation heatmap\n",
    "fig, axs = plt.subplots(nrows=1, figsize=(10, 10))\n",
    "\n",
    "# most correlated features if too much features\n",
    "#corrmat = train.corr()\n",
    "#top_corr_features = corrmat.index[abs(corrmat[\"SalePrice\"])>0.5]\n",
    "#plt.figure(figsize=(10,10))\n",
    "#g = sns.heatmap(train[top_corr_features].corr(),annot=True,cmap=\"RdYlGn\")\n",
    "\n",
    "sns.heatmap(X.corr(), ax=axs, annot=True, square=True, cmap='coolwarm', annot_kws={'size': 14})\n",
    "\n",
    "axs.tick_params(axis='x', labelsize=10)\n",
    "axs.tick_params(axis='y', labelsize=10)\n",
    "    \n",
    "axs.set_title('Correlations', size=15)\n",
    "\n",
    "plt.show()"
   ]
  },
  {
   "cell_type": "code",
   "execution_count": 10,
   "id": "4b092517",
   "metadata": {},
   "outputs": [
    {
     "name": "stdout",
     "output_type": "stream",
     "text": [
      "Species column missing values: 0\n",
      "Island column missing values: 0\n",
      "Stage column missing values: 0\n",
      "Culmen Length (mm) column missing values: 2\n",
      "Culmen Depth (mm) column missing values: 2\n",
      "Flipper Length (mm) column missing values: 2\n",
      "Body Mass (g) column missing values: 2\n",
      "Sex column missing values: 11\n",
      "\n",
      "\n"
     ]
    }
   ],
   "source": [
    "#Missing Values\n",
    "\n",
    "def display_missing(df):    \n",
    "    for col in df.columns.tolist():          \n",
    "        print('{} column missing values: {}'.format(col, df[col].isnull().sum()))\n",
    "    print('\\n')\n",
    "    \n",
    "display_missing(X)"
   ]
  },
  {
   "cell_type": "code",
   "execution_count": 11,
   "id": "41261712",
   "metadata": {},
   "outputs": [
    {
     "name": "stdout",
     "output_type": "stream",
     "text": [
      "[IterativeImputer] Completing matrix with shape (344, 10)\n",
      "[IterativeImputer] Change: 1068.7236217544025, scaled tolerance: 6.3 \n",
      "[IterativeImputer] Change: 321.20921154276783, scaled tolerance: 6.3 \n",
      "[IterativeImputer] Change: 101.21690134372227, scaled tolerance: 6.3 \n",
      "[IterativeImputer] Change: 33.45717756952766, scaled tolerance: 6.3 \n",
      "[IterativeImputer] Change: 11.367061450522986, scaled tolerance: 6.3 \n",
      "[IterativeImputer] Change: 3.9269288252807115, scaled tolerance: 6.3 \n",
      "[IterativeImputer] Early stopping criterion reached.\n"
     ]
    }
   ],
   "source": [
    "# Label Encoding\n",
    "lbl = LabelEncoder()\n",
    "label_encode_features = ['Sex', 'Stage', 'Species']\n",
    "for feature in label_encode_features:\n",
    "    X[feature] = lbl.fit_transform(X[feature])\n",
    "    \n",
    "# One-hot encoding\n",
    "X = pd.get_dummies(X, prefix=['Island'], columns=['Island'])\n",
    "\n",
    "# MICE Impute\n",
    "imp = IterativeImputer(verbose=1)\n",
    "imputed_X = imp.fit_transform(X)\n",
    "imputed_X = pd.DataFrame(imputed_X, columns=X.columns)\n",
    "X = imputed_X"
   ]
  },
  {
   "cell_type": "code",
   "execution_count": 12,
   "id": "7880fed6",
   "metadata": {},
   "outputs": [
    {
     "data": {
      "text/plain": [
       "\"\\nculmen_length_grouped = X.groupby(['Sex', 'Species']).median()['Culmen Length (mm)']\\n\\nfor Species in X.Species.unique():\\n    for sex in ['MALE', 'FEMALE']:\\n        print('Median age of Pclass {} {}s: {}'.format(pclass, sex, culment_length_grouped[sex][species]))\\nprint('Median age of all passengers: {}'.format(df_all['Age'].median()))\\ndf_all['Culmen Length (mm)'] = df_all.groupby(['Sex', 'Species'])['Culmen Length (mm)'].apply(lambda x: x.fillna(x.median()))\\n\""
      ]
     },
     "execution_count": 12,
     "metadata": {},
     "output_type": "execute_result"
    }
   ],
   "source": [
    "# We can try to group it by species and sex as well.\n",
    "'''\n",
    "culmen_length_grouped = X.groupby(['Sex', 'Species']).median()['Culmen Length (mm)']\n",
    "\n",
    "for Species in X.Species.unique():\n",
    "    for sex in ['MALE', 'FEMALE']:\n",
    "        print('Median age of Pclass {} {}s: {}'.format(pclass, sex, culment_length_grouped[sex][species]))\n",
    "print('Median age of all passengers: {}'.format(df_all['Age'].median()))\n",
    "df_all['Culmen Length (mm)'] = df_all.groupby(['Sex', 'Species'])['Culmen Length (mm)'].apply(lambda x: x.fillna(x.median()))\n",
    "'''"
   ]
  },
  {
   "cell_type": "code",
   "execution_count": 13,
   "id": "844d2d5f",
   "metadata": {},
   "outputs": [],
   "source": [
    "#df_all_corr = X.corr().abs().unstack().sort_values(kind=\"quicksort\", ascending=False).reset_index()\n",
    "#df_all_corr.rename(columns={\"level_0\": \"Feature 1\", \"level_1\": \"Feature 2\", 0: 'Correlation Coefficient'}, inplace=True)\n",
    "#df_all_corr[df_all_corr['Feature 1'] == 'Culmen Length (mm)']"
   ]
  },
  {
   "cell_type": "code",
   "execution_count": 14,
   "id": "722947cc",
   "metadata": {},
   "outputs": [],
   "source": [
    "def imputation_regressor(X, y):\n",
    "    \"\"\"\n",
    "    We create a linear regression model to predict missing values here\n",
    "    \"\"\"\n",
    "    regress_train_X, regress_test_X, regress_train_y, regress_test_y = train_test_split(X.dropna(), y.dropna(), random_state=1)\n",
    "    clf = LinearRegression()\n",
    "    clf.fit(regress_train_X, regress_train_y)\n",
    "    y_test_pred = clf.predict(regress_test_X)\n",
    "    print(f'R2 Score: {r2_score(regress_test_y, y_test_pred)}')\n",
    "    return clf\n",
    "\n",
    "#regress_X = X[['Flipper Length (mm)', 'Body Mass (g)']]\n",
    "#regress_y = X['Culmen Length (mm)']\n",
    "#clf = imputation_regressor(regress_X, regress_y)\n",
    "\n",
    "# This doesn't work because flipper length and body mass are all null, still useful information nonetheless\n",
    "# X['Culmen Length (mm)'] = clf.predict(regress_X)[X['Culmen Length (mm)'].isnull()]"
   ]
  },
  {
   "cell_type": "code",
   "execution_count": 15,
   "id": "6acac450",
   "metadata": {},
   "outputs": [],
   "source": [
    "# Feature Engineering\n",
    "# We set the species column as the target variable to be predicted\n",
    "y = X.Species\n",
    "X.drop(columns=['Species'], inplace=True)\n",
    "\n",
    "pca_features = ['Culmen Length (mm)', 'Flipper Length (mm)', 'Culmen Depth (mm)', 'Body Mass (g)']\n",
    "pca, X_pca, loadings = apply_pca(X[pca_features])"
   ]
  },
  {
   "cell_type": "code",
   "execution_count": 16,
   "id": "794c20fa",
   "metadata": {},
   "outputs": [
    {
     "data": {
      "text/plain": [
       "PC1    0.824028\n",
       "PC3    0.299924\n",
       "PC2    0.169069\n",
       "PC4    0.023154\n",
       "Name: MI Scores, dtype: float64"
      ]
     },
     "execution_count": 16,
     "metadata": {},
     "output_type": "execute_result"
    }
   ],
   "source": [
    "mi_scores = make_mi_scores(X_pca, y)\n",
    "mi_scores"
   ]
  },
  {
   "cell_type": "code",
   "execution_count": 17,
   "id": "ef8044a6",
   "metadata": {},
   "outputs": [
    {
     "name": "stdout",
     "output_type": "stream",
     "text": [
      "                          PC1       PC2       PC3       PC4\n",
      "Culmen Length (mm)   0.456676  0.590081  0.649760  0.145131\n",
      "Flipper Length (mm)  0.576136  0.002894 -0.232540 -0.783571\n",
      "Culmen Depth (mm)   -0.398503  0.802452 -0.411135 -0.168030\n",
      "Body Mass (g)        0.548370  0.088692 -0.595571  0.580275\n"
     ]
    }
   ],
   "source": [
    "# In PC1, we can see that it has something to do with the total span of the penguin in proportion to its body mass.\n",
    "# In PC2, flipper length and body mass are insignificant. Since we can discard those, we can see that the 2nd principal component has something to do with the culmen size.\n",
    "# In PC3, it has something to do with the span of the culmen in proportion to its entire body.\n",
    "print(loadings)\n",
    "X['Culmen Span'] = X['Culmen Length (mm)']/X['Culmen Depth (mm)']\n",
    "X['Culmen Size'] = X['Culmen Length (mm)'] * X['Culmen Depth (mm)']"
   ]
  },
  {
   "cell_type": "code",
   "execution_count": 18,
   "id": "4c5049b3-9e11-4687-a599-f1eb7a59ccb2",
   "metadata": {},
   "outputs": [
    {
     "name": "stdout",
     "output_type": "stream",
     "text": [
      "[1.         1.         1.         1.         0.97058824]\n"
     ]
    },
    {
     "data": {
      "image/png": "[encoded data removed]",
      "text/plain": [
       "<Figure size 432x288 with 2 Axes>"
      ]
     },
     "metadata": {},
     "output_type": "display_data"
    }
   ],
   "source": [
    "# Modelling\n",
    "# Random forest classifier\n",
    "model = RandomForestClassifier(n_estimators=10)\n",
    "X_train, X_test, y_train, y_test = train_test_split(X, y)\n",
    "scaler = StandardScaler()\n",
    "X_train = scaler.fit_transform(X_train)\n",
    "X_test = scaler.transform(X_test)\n",
    "model.fit(X_train, y_train)\n",
    "\n",
    "# Cross Validation\n",
    "print(cross_val_score(model, X, y, cv=5))\n",
    "# Confusion Matrix\n",
    "plot_confusion_matrix(model, X_test, y_test)\n",
    "\n",
    "plt.show()"
   ]
  },
  {
   "cell_type": "code",
   "execution_count": null,
   "id": "4b07d80f",
   "metadata": {},
   "outputs": [],
   "source": []
  }
 ],
 "metadata": {
  "kernelspec": {
   "display_name": "Python 3",
   "language": "python",
   "name": "python3"
  },
  "language_info": {
   "codemirror_mode": {
    "name": "ipython",
    "version": 3
   },
   "file_extension": ".py",
   "mimetype": "text/x-python",
   "name": "python",
   "nbconvert_exporter": "python",
   "pygments_lexer": "ipython3",
   "version": "3.8.8"
  }
 },
 "nbformat": 4,
 "nbformat_minor": 5
}
